{
  "nbformat": 4,
  "nbformat_minor": 0,
  "metadata": {
    "colab": {
      "provenance": []
    },
    "kernelspec": {
      "name": "python3",
      "display_name": "Python 3"
    },
    "language_info": {
      "name": "python"
    }
  },
  "cells": [
    {
      "cell_type": "code",
      "execution_count": 3,
      "metadata": {
        "id": "KAYT3C8zL0EM"
      },
      "outputs": [],
      "source": [
        "# basic imports\n",
        "import torch\n",
        "import torch.nn as nn\n",
        "import torch.optim as optim\n",
        "from torchvision import datasets, models, transforms\n"
      ]
    },
    {
      "cell_type": "code",
      "source": [
        "# cuda availability\n",
        "device = torch.device(\"cuda\" if torch.cuda.is_available() else \"cpu\")\n",
        "\n",
        "# transform to imagenet format\n",
        "transform = transforms.Compose([\n",
        "    transforms.Resize(256),\n",
        "    transforms.CenterCrop(224),\n",
        "    transforms.ToTensor(),\n",
        "    transforms.Normalize(mean=[0.485, 0.456, 0.406], std=[0.229, 0.224, 0.225]),\n",
        "])\n"
      ],
      "metadata": {
        "id": "j9Z054vfNIyu"
      },
      "execution_count": 4,
      "outputs": []
    },
    {
      "cell_type": "code",
      "source": [
        "# dataset loading (xrays?)\n",
        "# skip this cell for the time being until we have a dataest\n",
        "train_dataset = datasets.ImageFolder(\"/dataset/train\", transform=transform)\n",
        "val_dataset = datasets.ImageFolder(\"/dataset/val\", transform=transform)\n",
        "\n",
        "train_loader = torch.utils.data.DataLoader(train_dataset, batch_size=64, shuffle=True)\n",
        "val_loader = torch.utils.data.DataLoader(val_dataset, batch_size=64, shuffle=False)"
      ],
      "metadata": {
        "id": "3CTFajkcNTp5"
      },
      "execution_count": null,
      "outputs": []
    },
    {
      "cell_type": "code",
      "source": [
        "# Pretrained, SOTA resnet model for imagenet\n",
        "model = models.resnet50(weights=ResNet50_Weights.IMAGENET1K_V2)\n",
        "\n",
        "# freezing all layers in the model\n",
        "for param in model.parameters():\n",
        "    param.requires_grad = False\n",
        "\n",
        "# Replacing number of classes to classify into, to our desired number\n",
        "num_classes = 5 # to be decided based on dataset\n",
        "num_ftrs = model.fc.in_features\n",
        "model.fc = nn.Linear(num_ftrs, num_classes)\n",
        "model = model.to(device)\n"
      ],
      "metadata": {
        "id": "syrQFNP4NW9H"
      },
      "execution_count": 5,
      "outputs": []
    },
    {
      "cell_type": "code",
      "source": [
        "# loss and optimizer\n",
        "criterion = nn.CrossEntropyLoss()\n",
        "optimizer = optim.SGD(model.fc.parameters(), lr=0.001, momentum=0.9)"
      ],
      "metadata": {
        "id": "jALJznf1N2zv"
      },
      "execution_count": 6,
      "outputs": []
    },
    {
      "cell_type": "code",
      "source": [
        "# fine tuning step\n",
        "# Get to this cell once we have decided on a dataset\n",
        "\n",
        "# play around with this number\n",
        "num_epochs = 10\n",
        "\n",
        "for epoch in range(num_epochs):\n",
        "    model.train()\n",
        "    for inputs, labels in train_loader:\n",
        "        inputs, labels = inputs.to(device), labels.to(device)\n",
        "\n",
        "        optimizer.zero_grad()\n",
        "        outputs = model(inputs)\n",
        "        loss = criterion(outputs, labels)\n",
        "        loss.backward()\n",
        "        optimizer.step()\n",
        "\n",
        "    # Validation Accuracy\n",
        "    model.eval()\n",
        "    correct = 0\n",
        "    total = 0\n",
        "    with torch.no_grad():\n",
        "        for inputs, labels in val_loader:\n",
        "            inputs, labels = inputs.to(device), labels.to(device)\n",
        "            outputs = model(inputs)\n",
        "            _, predicted = outputs.max(1)\n",
        "            total += labels.size(0)\n",
        "            correct += predicted.eq(labels).sum().item()\n",
        "\n",
        "    print(f\"Epoch {epoch + 1}/{num_epochs}, Validation Accuracy: {100 * correct / total:.2f}%\")\n"
      ],
      "metadata": {
        "id": "g0EHcDAPN5LN"
      },
      "execution_count": null,
      "outputs": []
    },
    {
      "cell_type": "code",
      "source": [
        "# Inference logic for our fine tuned model\n",
        "# TO BE FIGURED OUT, THIS IS JUST TEMPORARY AND UNTESTED\n",
        "\n",
        "from PIL import Image\n",
        "\n",
        "def preprocess_image(image_path):\n",
        "    transform = transforms.Compose([\n",
        "        transforms.Resize(256),\n",
        "        transforms.CenterCrop(224),\n",
        "        transforms.ToTensor(),\n",
        "        transforms.Normalize(mean=[0.485, 0.456, 0.406], std=[0.229, 0.224, 0.225]),\n",
        "    ])\n",
        "\n",
        "    image = Image.open(image_path).convert('RGB')\n",
        "    image = transform(image).unsqueeze(0)\n",
        "    return image\n",
        "\n",
        "def predict(image_path, model, class_names):\n",
        "    model.eval()  # Ensure the model is in evaluation mode\n",
        "    image = preprocess_image(image_path).to(device)\n",
        "\n",
        "    with torch.no_grad():\n",
        "        outputs = model(image)\n",
        "        _, predicted_idx = outputs.max(1)\n",
        "        predicted_class = class_names[predicted_idx[0].item()]\n",
        "\n",
        "    return predicted_class\n",
        "\n",
        "class_names = [\"class0\", \"class1\", \"class2\", ...]  # replace with your class names\n",
        "\n",
        "image_path = \"path_to_your_image.jpg\"\n",
        "predicted_class = predict(image_path, model, class_names)\n",
        "\n",
        "print(f\"The predicted class is: {predicted_class}\")\n",
        "\n"
      ],
      "metadata": {
        "id": "Q2cXS4uvOEFE"
      },
      "execution_count": null,
      "outputs": []
    },
    {
      "cell_type": "code",
      "source": [
        "# Inference on regular resnet:\n",
        "from torchvision.io import read_image\n",
        "from torchvision.models import resnet50, ResNet50_Weights\n",
        "\n",
        "img = read_image(\"camera.jpeg\")\n",
        "\n",
        "# initializing model with weights\n",
        "weights = ResNet50_Weights.DEFAULT\n",
        "model = resnet50(weights=weights)\n",
        "model.eval()\n",
        "\n",
        "# preprocessing\n",
        "preprocess = weights.transforms()\n",
        "batch = preprocess(img).unsqueeze(0)\n",
        "\n",
        "# getting result category as predicted\n",
        "prediction = model(batch).squeeze(0).softmax(0)\n",
        "class_id = prediction.argmax().item()\n",
        "score = prediction[class_id].item()\n",
        "category_name = weights.meta[\"categories\"][class_id]\n",
        "print(f\"{category_name}: {100 * score:.1f}%\")"
      ],
      "metadata": {
        "colab": {
          "base_uri": "https://localhost:8080/"
        },
        "id": "5GR1gy4VOYAF",
        "outputId": "64a2c253-b80c-4726-e460-53d8ec068e4f"
      },
      "execution_count": 2,
      "outputs": [
        {
          "output_type": "stream",
          "name": "stdout",
          "text": [
            "reflex camera: 22.1%\n"
          ]
        }
      ]
    }
  ]
}